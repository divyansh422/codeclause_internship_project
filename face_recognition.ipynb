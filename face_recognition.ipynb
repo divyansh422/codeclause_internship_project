{
 "cells": [
  {
   "cell_type": "code",
   "execution_count": 4,
   "id": "a398e729-8c82-459d-a98e-174828fab20c",
   "metadata": {},
   "outputs": [],
   "source": [
    "import cv2\n",
    "import face_recognition\n",
    "from simple_facerec import SimpleFacerec"
   ]
  },
  {
   "cell_type": "markdown",
   "id": "249ca50c-9730-4683-83ef-528302fe9b8f",
   "metadata": {},
   "source": [
    "### Create a folder named 'encoding_images' and keep the folder in the same directory as this ipynb file.\n",
    "### Select a sample photo of a person for the algorithm to learn from, and place the photo in the 'encoding_images' folder before running the next cell\n",
    "### for clarity purposes, name the photo file as the name of the person"
   ]
  },
  {
   "cell_type": "code",
   "execution_count": 2,
   "id": "e8df9107-4fd7-4eb5-a6c7-8431fe19b991",
   "metadata": {},
   "outputs": [
    {
     "name": "stdout",
     "output_type": "stream",
     "text": [
      "2 encoding images found.\n",
      "Encoding images loaded\n"
     ]
    }
   ],
   "source": [
    "#encoding faces from a folder \n",
    "sfr = SimpleFacerec()\n",
    "sfr.load_encoding_images(\"encoding_images/\")"
   ]
  },
  {
   "cell_type": "markdown",
   "id": "3e6d0bd0-c4cd-4df1-a31a-048107d0eda5",
   "metadata": {},
   "source": [
    "### press 'esc' to end the live video stream after running the next cell\n",
    "### the code will be able to recognize the person in the live video stream if it finds their photo in the 'encoding_images' folder\n",
    "\n",
    "### replace the '0' in the first following line with 1 if using an external webcam, or 2 if using the second external webcam etc. '0' only if using the built in system webcam."
   ]
  },
  {
   "cell_type": "code",
   "execution_count": 3,
   "id": "bf9148a4-83cd-481d-95d6-6b57d335586e",
   "metadata": {},
   "outputs": [],
   "source": [
    "cap = cv2.VideoCapture(0)\n",
    "\n",
    "while True:\n",
    "    ret, frame = cap.read()\n",
    "\n",
    "    #detecting faces\n",
    "    face_locations, face_names = sfr.detect_known_faces(frame)\n",
    "    for face_loc, name in zip(face_locations, face_names):\n",
    "        y1, x2, y2, x1 = face_loc[0], face_loc[1], face_loc[2], face_loc[3]\n",
    "\n",
    "\n",
    "        cv2.putText(frame, name, (x1,y1-10), cv2.FONT_HERSHEY_DUPLEX, 1, (0,0,200 ), 2)\n",
    "        cv2.rectangle(frame, (x1,y1), (x2,y2), (0,0,200), 4)\n",
    "\n",
    "    cv2.imshow(\"Frame\", frame)\n",
    "    key = cv2.waitKey(1)\n",
    "    if key == 27:\n",
    "        break\n",
    "\n",
    "cap.release()\n",
    "cv2.destroyAllWindows()"
   ]
  },
  {
   "cell_type": "code",
   "execution_count": null,
   "id": "166967a1-2f5a-487e-bb87-46ccddcd7371",
   "metadata": {},
   "outputs": [],
   "source": []
  }
 ],
 "metadata": {
  "kernelspec": {
   "display_name": "Python 3 (ipykernel)",
   "language": "python",
   "name": "python3"
  },
  "language_info": {
   "codemirror_mode": {
    "name": "ipython",
    "version": 3
   },
   "file_extension": ".py",
   "mimetype": "text/x-python",
   "name": "python",
   "nbconvert_exporter": "python",
   "pygments_lexer": "ipython3",
   "version": "3.9.0"
  }
 },
 "nbformat": 4,
 "nbformat_minor": 5
}
